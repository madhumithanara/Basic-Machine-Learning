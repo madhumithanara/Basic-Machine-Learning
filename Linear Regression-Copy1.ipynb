{
 "cells": [
  {
   "cell_type": "code",
   "execution_count": 1,
   "metadata": {},
   "outputs": [],
   "source": [
    "import numpy as np"
   ]
  },
  {
   "cell_type": "code",
   "execution_count": 4,
   "metadata": {},
   "outputs": [],
   "source": [
    "def Hypothesis(theta,x):\n",
    "    return np.dot(x, theta)"
   ]
  },
  {
   "cell_type": "code",
   "execution_count": 51,
   "metadata": {},
   "outputs": [],
   "source": [
    "def Cost_Function(X,Y,theta,m):\n",
    "    for i in range(0, iterations):\n",
    "        diff = np.dot(X,theta) - Y\n",
    "        J = np.sum(diff** 2)/(2*m)\n",
    "    return J\n",
    "\n",
    "\n",
    "    "
   ]
  },
  {
   "cell_type": "code",
   "execution_count": 53,
   "metadata": {},
   "outputs": [],
   "source": [
    "def Gradient_Descent(X,Y,theta, m, alpha):\n",
    "    xTrans = X.transpose()\n",
    "    for i in range(0,iterations):\n",
    "        diff = Hypothesis(theta,X) - Y \n",
    "        gradient = np.dot(xTrans, diff) / m\n",
    "        theta = theta - alpha * gradient\n",
    "    return theta"
   ]
  },
  {
   "cell_type": "code",
   "execution_count": 54,
   "metadata": {},
   "outputs": [],
   "source": [
    "def Linear_Regression(X,Y,alpha,theta,num_iters):\n",
    "\tm = len(X)\n",
    "\tfor i in range(num_iters):\n",
    "\t\tnew_theta = Gradient_Descent(X,Y,theta, m, alpha)\n",
    "\t\ttheta = new_theta\n",
    "\t\tif i % 100 == 0:\n",
    "\t\t\tprint ('theta ', theta)\n",
    "\t\t\tprint ('cost is ', Cost_Function(X,Y,theta,m))\n",
    "\treturn new_theta"
   ]
  },
  {
   "cell_type": "code",
   "execution_count": 64,
   "metadata": {},
   "outputs": [
    {
     "name": "stdout",
     "output_type": "stream",
     "text": [
      "theta  [18.19235414  0.76114483]\n",
      "cost is  0.16966592780149592\n",
      "theta  [18.47222222  0.71666667]\n",
      "cost is  0.16141975308641973\n",
      "theta  [18.47222222  0.71666667]\n",
      "cost is  0.16141975308641973\n",
      "theta  [18.47222222  0.71666667]\n",
      "cost is  0.16141975308641973\n",
      "theta  [18.47222222  0.71666667]\n",
      "cost is  0.16141975308641973\n",
      "theta  [18.47222222  0.71666667]\n",
      "cost is  0.16141975308641973\n",
      "theta  [18.47222222  0.71666667]\n",
      "cost is  0.16141975308641973\n",
      "theta  [18.47222222  0.71666667]\n",
      "cost is  0.16141975308641973\n",
      "theta  [18.47222222  0.71666667]\n",
      "cost is  0.16141975308641973\n",
      "theta  [18.47222222  0.71666667]\n",
      "cost is  0.16141975308641973\n",
      "theta  [18.47222222  0.71666667]\n",
      "cost is  0.16141975308641973\n",
      "theta  [18.47222222  0.71666667]\n",
      "cost is  0.16141975308641973\n",
      "theta  [18.47222222  0.71666667]\n",
      "cost is  0.16141975308641973\n",
      "theta  [18.47222222  0.71666667]\n",
      "cost is  0.16141975308641973\n",
      "theta  [18.47222222  0.71666667]\n",
      "cost is  0.16141975308641973\n",
      "theta  [18.47222222  0.71666667]\n",
      "cost is  0.16141975308641973\n",
      "theta  [18.47222222  0.71666667]\n",
      "cost is  0.16141975308641973\n",
      "theta  [18.47222222  0.71666667]\n",
      "cost is  0.16141975308641973\n",
      "theta  [18.47222222  0.71666667]\n",
      "cost is  0.16141975308641973\n",
      "theta  [18.47222222  0.71666667]\n",
      "cost is  0.16141975308641973\n"
     ]
    },
    {
     "data": {
      "text/plain": [
       "array([18.47222222,  0.71666667])"
      ]
     },
     "execution_count": 64,
     "metadata": {},
     "output_type": "execute_result"
    }
   ],
   "source": [
    "Y= np.array([19, 20, 20.5, 21.5, 22, 23, 23, 25.5, 24])\n",
    "X = np.array([[1,1],[1,2],[1,3],[1,4],[1,5],[1,6],[1,7],[1,8],[1,9]])\n",
    "alpha = 0.01\n",
    "iterations = 2000\n",
    "theta = np.ones(2)\n",
    "Linear_Regression(X,Y,alpha,theta,iterations)\n",
    "\n"
   ]
  }
 ],
 "metadata": {
  "kernelspec": {
   "display_name": "Python 3",
   "language": "python",
   "name": "python3"
  },
  "language_info": {
   "codemirror_mode": {
    "name": "ipython",
    "version": 3
   },
   "file_extension": ".py",
   "mimetype": "text/x-python",
   "name": "python",
   "nbconvert_exporter": "python",
   "pygments_lexer": "ipython3",
   "version": "3.6.4"
  }
 },
 "nbformat": 4,
 "nbformat_minor": 2
}

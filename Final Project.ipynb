{
 "cells": [
  {
   "cell_type": "code",
   "execution_count": 1,
   "metadata": {},
   "outputs": [],
   "source": [
    "import random\n",
    "import csv"
   ]
  },
  {
   "cell_type": "code",
   "execution_count": 25,
   "metadata": {},
   "outputs": [],
   "source": [
    "#loading the data and splitting it into test and training set RANDOMLY\n",
    "\n",
    "def define_sets(filename, split_percent, trainingSet=[] , testSet=[]):\n",
    "\t'''loads the data and splits into test and training randomly'''\n",
    "\twith open(filename, 'rt') as csvfile: #opening the file\n",
    "\t    lines = csv.reader(csvfile) #creates object\n",
    "\t    dataSet = list(lines) #dataset is a 2D array whose each element is an array of four attributes and one name\n",
    "        #four attributes are in str form. we convert it into float\n",
    "\t    for x in range(0,len(dataSet)-1): #last entry in dataset is blank\n",
    "\t        for y in range(0,4):\n",
    "\t            dataSet[x][y] = float(dataSet[x][y]) #typecasting the attributes\n",
    "\t    dataSetcopy = dataSet\n",
    "\t    random.shuffle(dataSetcopy)\n",
    "\t    length_train = int(split_percent * (len(dataSet)-1) / 100)\n",
    "\t    print(dataSetcopy[:length_train])\n",
    "\n",
    "                "
   ]
  },
  {
   "cell_type": "code",
   "execution_count": 23,
   "metadata": {},
   "outputs": [
    {
     "name": "stdout",
     "output_type": "stream",
     "text": [
      "[[5.5, 2.3, 4.0, 1.3, 'Iris-versicolor'], [4.4, 3.0, 1.3, 0.2, 'Iris-setosa'], [6.0, 3.4, 4.5, 1.6, 'Iris-versicolor'], [5.6, 2.8, 4.9, 2.0, 'Iris-virginica'], [6.7, 3.3, 5.7, 2.5, 'Iris-virginica'], [7.7, 3.0, 6.1, 2.3, 'Iris-virginica'], [4.8, 3.4, 1.9, 0.2, 'Iris-setosa'], [5.0, 3.4, 1.5, 0.2, 'Iris-setosa'], [5.2, 3.5, 1.5, 0.2, 'Iris-setosa'], [5.4, 3.4, 1.5, 0.4, 'Iris-setosa'], [6.4, 2.8, 5.6, 2.2, 'Iris-virginica'], [6.3, 2.5, 5.0, 1.9, 'Iris-virginica'], [4.5, 2.3, 1.3, 0.3, 'Iris-setosa'], [6.1, 3.0, 4.6, 1.4, 'Iris-versicolor'], [6.0, 2.2, 5.0, 1.5, 'Iris-virginica'], [5.1, 3.8, 1.5, 0.3, 'Iris-setosa'], [6.5, 3.0, 5.2, 2.0, 'Iris-virginica'], [5.0, 3.6, 1.4, 0.2, 'Iris-setosa'], [6.9, 3.1, 4.9, 1.5, 'Iris-versicolor'], [5.7, 2.6, 3.5, 1.0, 'Iris-versicolor'], [5.2, 2.7, 3.9, 1.4, 'Iris-versicolor'], [5.4, 3.7, 1.5, 0.2, 'Iris-setosa'], [5.6, 3.0, 4.5, 1.5, 'Iris-versicolor'], [5.4, 3.0, 4.5, 1.5, 'Iris-versicolor'], [6.3, 2.5, 4.9, 1.5, 'Iris-versicolor'], [5.8, 2.8, 5.1, 2.4, 'Iris-virginica'], [6.4, 3.2, 5.3, 2.3, 'Iris-virginica'], [7.2, 3.2, 6.0, 1.8, 'Iris-virginica'], [5.8, 4.0, 1.2, 0.2, 'Iris-setosa'], [6.7, 2.5, 5.8, 1.8, 'Iris-virginica'], [5.5, 2.4, 3.7, 1.0, 'Iris-versicolor'], [5.5, 4.2, 1.4, 0.2, 'Iris-setosa'], [6.3, 2.8, 5.1, 1.5, 'Iris-virginica'], [4.8, 3.1, 1.6, 0.2, 'Iris-setosa'], [5.8, 2.7, 5.1, 1.9, 'Iris-virginica'], [6.8, 3.0, 5.5, 2.1, 'Iris-virginica'], [4.8, 3.0, 1.4, 0.3, 'Iris-setosa'], [5.6, 2.7, 4.2, 1.3, 'Iris-versicolor'], [5.8, 2.7, 4.1, 1.0, 'Iris-versicolor'], [6.7, 3.0, 5.0, 1.7, 'Iris-versicolor'], [4.9, 3.1, 1.5, 0.1, 'Iris-setosa'], [5.1, 3.4, 1.5, 0.2, 'Iris-setosa'], [4.9, 2.5, 4.5, 1.7, 'Iris-virginica'], [7.1, 3.0, 5.9, 2.1, 'Iris-virginica'], [4.8, 3.0, 1.4, 0.1, 'Iris-setosa'], [5.7, 2.9, 4.2, 1.3, 'Iris-versicolor'], [5.1, 3.8, 1.6, 0.2, 'Iris-setosa'], [4.9, 2.4, 3.3, 1.0, 'Iris-versicolor'], [5.0, 3.3, 1.4, 0.2, 'Iris-setosa'], [6.7, 3.3, 5.7, 2.1, 'Iris-virginica'], [6.5, 2.8, 4.6, 1.5, 'Iris-versicolor'], [5.1, 2.5, 3.0, 1.1, 'Iris-versicolor'], [7.4, 2.8, 6.1, 1.9, 'Iris-virginica'], [5.7, 4.4, 1.5, 0.4, 'Iris-setosa'], [6.4, 2.8, 5.6, 2.1, 'Iris-virginica'], [6.7, 3.1, 5.6, 2.4, 'Iris-virginica'], [4.8, 3.4, 1.6, 0.2, 'Iris-setosa'], [6.9, 3.1, 5.4, 2.1, 'Iris-virginica'], [5.0, 3.5, 1.6, 0.6, 'Iris-setosa'], [6.3, 3.3, 4.7, 1.6, 'Iris-versicolor'], [5.2, 4.1, 1.5, 0.1, 'Iris-setosa'], [5.3, 3.7, 1.5, 0.2, 'Iris-setosa'], [4.7, 3.2, 1.6, 0.2, 'Iris-setosa'], [6.4, 2.7, 5.3, 1.9, 'Iris-virginica'], [5.7, 3.8, 1.7, 0.3, 'Iris-setosa'], [5.5, 3.5, 1.3, 0.2, 'Iris-setosa'], [6.6, 2.9, 4.6, 1.3, 'Iris-versicolor'], [5.4, 3.9, 1.3, 0.4, 'Iris-setosa'], [5.5, 2.4, 3.8, 1.1, 'Iris-versicolor'], [4.4, 2.9, 1.4, 0.2, 'Iris-setosa'], [5.5, 2.5, 4.0, 1.3, 'Iris-versicolor'], [6.3, 3.3, 6.0, 2.5, 'Iris-virginica'], [7.2, 3.6, 6.1, 2.5, 'Iris-virginica'], [6.3, 2.9, 5.6, 1.8, 'Iris-virginica'], [6.7, 3.1, 4.4, 1.4, 'Iris-versicolor'], [6.5, 3.2, 5.1, 2.0, 'Iris-virginica'], [5.8, 2.7, 3.9, 1.2, 'Iris-versicolor'], [6.0, 2.7, 5.1, 1.6, 'Iris-versicolor'], [4.9, 3.1, 1.5, 0.1, 'Iris-setosa'], [5.4, 3.9, 1.7, 0.4, 'Iris-setosa'], [6.1, 2.8, 4.0, 1.3, 'Iris-versicolor'], [6.0, 2.9, 4.5, 1.5, 'Iris-versicolor'], [5.0, 3.4, 1.6, 0.4, 'Iris-setosa'], [5.0, 2.3, 3.3, 1.0, 'Iris-versicolor'], [6.9, 3.2, 5.7, 2.3, 'Iris-virginica'], [4.6, 3.2, 1.4, 0.2, 'Iris-setosa'], [6.0, 3.0, 4.8, 1.8, 'Iris-virginica'], [7.7, 2.8, 6.7, 2.0, 'Iris-virginica'], [6.1, 2.6, 5.6, 1.4, 'Iris-virginica'], [4.6, 3.4, 1.4, 0.3, 'Iris-setosa'], [5.7, 2.8, 4.5, 1.3, 'Iris-versicolor'], [], [4.7, 3.2, 1.3, 0.2, 'Iris-setosa'], [5.0, 3.2, 1.2, 0.2, 'Iris-setosa'], [4.6, 3.6, 1.0, 0.2, 'Iris-setosa'], [5.1, 3.5, 1.4, 0.2, 'Iris-setosa'], [7.0, 3.2, 4.7, 1.4, 'Iris-versicolor'], [6.7, 3.1, 4.7, 1.5, 'Iris-versicolor'], [5.1, 3.8, 1.9, 0.4, 'Iris-setosa']]\n",
      "Train set: 1\n",
      "Test set: 1\n"
     ]
    }
   ],
   "source": [
    "# prepare data\n",
    "trainingSet=[]\n",
    "testSet=[]\n",
    "split = 66 # The ratio between training set and test set\n",
    "    \n",
    "    \n",
    "define_sets('iris.data', split, trainingSet, testSet)\n",
    "print ('Train set: ' + str(len(trainingSet)))\n",
    "print ('Test set: ' + str(len(testSet)))"
   ]
  },
  {
   "cell_type": "code",
   "execution_count": null,
   "metadata": {},
   "outputs": [],
   "source": []
  }
 ],
 "metadata": {
  "kernelspec": {
   "display_name": "Python 3",
   "language": "python",
   "name": "python3"
  },
  "language_info": {
   "codemirror_mode": {
    "name": "ipython",
    "version": 3
   },
   "file_extension": ".py",
   "mimetype": "text/x-python",
   "name": "python",
   "nbconvert_exporter": "python",
   "pygments_lexer": "ipython3",
   "version": "3.6.4"
  }
 },
 "nbformat": 4,
 "nbformat_minor": 2
}

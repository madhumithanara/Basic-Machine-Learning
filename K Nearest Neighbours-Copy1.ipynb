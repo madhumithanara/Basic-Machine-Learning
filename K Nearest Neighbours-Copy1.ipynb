{
 "cells": [
  {
   "cell_type": "code",
   "execution_count": 13,
   "metadata": {},
   "outputs": [],
   "source": [
    "import csv\n",
    "import random"
   ]
  },
  {
   "cell_type": "code",
   "execution_count": 21,
   "metadata": {},
   "outputs": [],
   "source": [
    "# load irist dataset and randomly split it into test set and training set\n",
    "\n",
    "#loading the data and splitting it into test and training set RANDOMLY\n",
    "\n",
    "def loadDataset(filename, split_percent, trainingSet=[] , testSet=[]):\n",
    "    '''loads the data and splits into test and training randomly'''\n",
    "    with open(filename, 'rt') as csvfile: #opening the file\n",
    "        lines = csv.reader(csvfile) #creates object\n",
    "        dataSet = list(lines) #dataset is a 2D array whose each element is an array of four attributes and one name\n",
    "        \n",
    "        \n",
    "        #four attributes are in str form. we convert it into float\n",
    "        for x in range(0,len(dataSet)-1): #last entry in dataset is blank\n",
    "            for y in range(0,4):\n",
    "                dataSet[x][y] = float(dataSet[x][y]) #typecasting the attributes\n",
    "\n",
    "        #splitting into training and test sets        \n",
    "        dataSetcopy = dataSet\n",
    "        random.shuffle(dataSetcopy)\n",
    "        length_train = int(split_percent * (len(dataSet)-1) / 100)\n",
    "\n",
    "\n",
    "        for a in range(0,len(dataSetcopy)-1):\n",
    "            if (a<length_train):\n",
    "                trainingSet.append(dataSetcopy[a])\n",
    "            else:\n",
    "                testSet.append(dataSetcopy[a])\n",
    "        \n",
    "        print(trainingSet,testSet)\n"
   ]
  },
  {
   "cell_type": "code",
   "execution_count": 22,
   "metadata": {},
   "outputs": [],
   "source": [
    "# euclidean distance calcualtion\n",
    "\n",
    "import math\n",
    "def euclideanDistance(instance1, instance2, length):\n",
    "\tdistance = 0\n",
    "\tfor x in range(length):\n",
    "\t\tdistance += pow((instance1[x] - instance2[x]), 2)\n",
    "\treturn math.sqrt(distance)"
   ]
  },
  {
   "cell_type": "code",
   "execution_count": 23,
   "metadata": {},
   "outputs": [],
   "source": [
    "############################################################\n",
    "# NEIGHBOURS - selecting subset with the smallest distance #\n",
    "############################################################\n",
    "\n",
    "\n",
    "\n",
    "\n",
    "import operator \n",
    "def getNeighbors(trainingSet, testInstance, k):\n",
    "\tdistances = []\n",
    "\tlength = len(testInstance)-1\n",
    "\tfor x in range(len(trainingSet)):\n",
    "\t\tdist = euclideanDistance(testInstance, trainingSet[x], length)\n",
    "\t\tdistances.append((trainingSet[x], dist))\n",
    "\tdistances.sort(key=operator.itemgetter(1))\n",
    "\tneighbors = []\n",
    "\tfor x in range(k):\n",
    "\t\tneighbors.append(distances[x][0])\n",
    "\treturn neighbors"
   ]
  },
  {
   "cell_type": "code",
   "execution_count": 24,
   "metadata": {},
   "outputs": [],
   "source": [
    "\n",
    "############################## \n",
    "# PREDICTED RESPONSE #\n",
    "######################\n",
    "\n",
    "import operator\n",
    "def getResponse(neighbors):\n",
    "\tclassVotes = {}\n",
    "\tfor x in range(len(neighbors)):\n",
    "\t\tresponse = neighbors[x][-1]\n",
    "\t\tif response in classVotes:\n",
    "\t\t\tclassVotes[response] += 1\n",
    "\t\t\tprint(classVotes,response,\"&&&\")\n",
    "\t\telse:\n",
    "\t\t\tclassVotes[response] = 1\n",
    "\tsortedVotes = sorted(classVotes.items(), key=operator.itemgetter(1), reverse=True)\n",
    "\tprint(\"//////\")\n",
    "\tprint(sortedVotes)\n",
    "\treturn sortedVotes[0][0]"
   ]
  },
  {
   "cell_type": "code",
   "execution_count": 25,
   "metadata": {},
   "outputs": [],
   "source": [
    "######################\n",
    "# MEASURING ACCURACY #\n",
    "######################\n",
    "\n",
    "def getAccuracy(testSet, predictions):\n",
    "\tcorrect = 0\n",
    "\tfor x in range(len(testSet)):\n",
    "\t\tif testSet[x][-1] in predictions[x]: \n",
    "\t\t\tcorrect = correct + 1\n",
    "\t\t\t\n",
    "\treturn (correct/float(len(testSet))*100)"
   ]
  },
  {
   "cell_type": "code",
   "execution_count": 26,
   "metadata": {},
   "outputs": [
    {
     "name": "stdout",
     "output_type": "stream",
     "text": [
      "[] [[5.3, 3.7, 1.5, 0.2, 'Iris-setosa'], [6.1, 2.8, 4.0, 1.3, 'Iris-versicolor'], [5.5, 4.2, 1.4, 0.2, 'Iris-setosa'], [6.0, 2.9, 4.5, 1.5, 'Iris-versicolor'], [5.7, 4.4, 1.5, 0.4, 'Iris-setosa'], [6.1, 2.9, 4.7, 1.4, 'Iris-versicolor'], [5.0, 3.0, 1.6, 0.2, 'Iris-setosa'], [5.0, 3.5, 1.6, 0.6, 'Iris-setosa'], [5.7, 2.5, 5.0, 2.0, 'Iris-virginica'], [6.7, 3.0, 5.2, 2.3, 'Iris-virginica'], [7.2, 3.0, 5.8, 1.6, 'Iris-virginica'], [5.6, 2.8, 4.9, 2.0, 'Iris-virginica'], [6.7, 3.1, 5.6, 2.4, 'Iris-virginica'], [5.1, 2.5, 3.0, 1.1, 'Iris-versicolor'], [6.4, 3.1, 5.5, 1.8, 'Iris-virginica'], [6.4, 3.2, 5.3, 2.3, 'Iris-virginica'], [6.1, 3.0, 4.9, 1.8, 'Iris-virginica'], [6.5, 3.2, 5.1, 2.0, 'Iris-virginica'], [4.6, 3.1, 1.5, 0.2, 'Iris-setosa'], [5.8, 2.6, 4.0, 1.2, 'Iris-versicolor'], [6.3, 2.8, 5.1, 1.5, 'Iris-virginica'], [6.1, 2.8, 4.7, 1.2, 'Iris-versicolor'], [6.7, 3.1, 4.7, 1.5, 'Iris-versicolor'], [5.6, 3.0, 4.1, 1.3, 'Iris-versicolor'], [4.6, 3.2, 1.4, 0.2, 'Iris-setosa'], [5.8, 2.7, 3.9, 1.2, 'Iris-versicolor'], [6.7, 2.5, 5.8, 1.8, 'Iris-virginica'], [6.0, 2.7, 5.1, 1.6, 'Iris-versicolor'], [6.5, 2.8, 4.6, 1.5, 'Iris-versicolor'], [5.5, 2.4, 3.7, 1.0, 'Iris-versicolor'], [6.0, 3.0, 4.8, 1.8, 'Iris-virginica'], [6.9, 3.1, 4.9, 1.5, 'Iris-versicolor'], [4.7, 3.2, 1.6, 0.2, 'Iris-setosa'], [6.7, 3.0, 5.0, 1.7, 'Iris-versicolor'], [7.7, 2.8, 6.7, 2.0, 'Iris-virginica'], [6.9, 3.1, 5.1, 2.3, 'Iris-virginica'], [6.7, 3.3, 5.7, 2.1, 'Iris-virginica'], [5.7, 2.8, 4.1, 1.3, 'Iris-versicolor'], [5.0, 3.5, 1.3, 0.3, 'Iris-setosa'], [4.9, 3.0, 1.4, 0.2, 'Iris-setosa'], [5.4, 3.0, 4.5, 1.5, 'Iris-versicolor'], [5.5, 2.4, 3.8, 1.1, 'Iris-versicolor'], [5.0, 2.3, 3.3, 1.0, 'Iris-versicolor'], [5.4, 3.4, 1.5, 0.4, 'Iris-setosa'], [5.8, 2.7, 4.1, 1.0, 'Iris-versicolor'], [7.6, 3.0, 6.6, 2.1, 'Iris-virginica'], [6.4, 2.7, 5.3, 1.9, 'Iris-virginica'], [4.5, 2.3, 1.3, 0.3, 'Iris-setosa'], [5.6, 3.0, 4.5, 1.5, 'Iris-versicolor'], [7.2, 3.6, 6.1, 2.5, 'Iris-virginica'], [6.4, 2.8, 5.6, 2.1, 'Iris-virginica'], [4.4, 2.9, 1.4, 0.2, 'Iris-setosa'], [4.9, 3.1, 1.5, 0.1, 'Iris-setosa'], [4.9, 3.1, 1.5, 0.1, 'Iris-setosa'], [5.6, 2.7, 4.2, 1.3, 'Iris-versicolor'], [6.5, 3.0, 5.8, 2.2, 'Iris-virginica'], [4.4, 3.2, 1.3, 0.2, 'Iris-setosa'], [5.1, 3.7, 1.5, 0.4, 'Iris-setosa'], [5.2, 3.5, 1.5, 0.2, 'Iris-setosa'], [4.6, 3.4, 1.4, 0.3, 'Iris-setosa'], [6.6, 3.0, 4.4, 1.4, 'Iris-versicolor'], [4.9, 2.5, 4.5, 1.7, 'Iris-virginica'], [6.5, 3.0, 5.2, 2.0, 'Iris-virginica'], [4.4, 3.0, 1.3, 0.2, 'Iris-setosa'], [5.7, 2.9, 4.2, 1.3, 'Iris-versicolor'], [5.4, 3.4, 1.7, 0.2, 'Iris-setosa'], [5.6, 2.5, 3.9, 1.1, 'Iris-versicolor'], [7.7, 3.0, 6.1, 2.3, 'Iris-virginica'], [6.0, 2.2, 4.0, 1.0, 'Iris-versicolor'], [5.4, 3.9, 1.7, 0.4, 'Iris-setosa'], [7.7, 2.6, 6.9, 2.3, 'Iris-virginica'], [4.8, 3.0, 1.4, 0.1, 'Iris-setosa'], [5.0, 3.3, 1.4, 0.2, 'Iris-setosa'], [7.0, 3.2, 4.7, 1.4, 'Iris-versicolor'], [5.0, 3.4, 1.5, 0.2, 'Iris-setosa'], [5.7, 3.0, 4.2, 1.2, 'Iris-versicolor'], [7.1, 3.0, 5.9, 2.1, 'Iris-virginica'], [5.1, 3.5, 1.4, 0.2, 'Iris-setosa'], [6.3, 2.9, 5.6, 1.8, 'Iris-virginica'], [6.2, 2.8, 4.8, 1.8, 'Iris-virginica'], [6.4, 2.8, 5.6, 2.2, 'Iris-virginica'], [7.7, 3.8, 6.7, 2.2, 'Iris-virginica'], [6.2, 2.2, 4.5, 1.5, 'Iris-versicolor'], [6.9, 3.2, 5.7, 2.3, 'Iris-virginica'], [4.7, 3.2, 1.3, 0.2, 'Iris-setosa'], [7.3, 2.9, 6.3, 1.8, 'Iris-virginica'], [4.8, 3.1, 1.6, 0.2, 'Iris-setosa'], [6.8, 3.0, 5.5, 2.1, 'Iris-virginica'], [4.9, 3.1, 1.5, 0.1, 'Iris-setosa'], [5.1, 3.3, 1.7, 0.5, 'Iris-setosa'], [7.9, 3.8, 6.4, 2.0, 'Iris-virginica'], [5.1, 3.5, 1.4, 0.3, 'Iris-setosa'], [6.4, 3.2, 4.5, 1.5, 'Iris-versicolor'], [6.2, 2.9, 4.3, 1.3, 'Iris-versicolor'], [6.8, 2.8, 4.8, 1.4, 'Iris-versicolor'], [5.1, 3.4, 1.5, 0.2, 'Iris-setosa'], [6.9, 3.1, 5.4, 2.1, 'Iris-virginica'], [6.1, 3.0, 4.6, 1.4, 'Iris-versicolor'], [6.5, 3.0, 5.5, 1.8, 'Iris-virginica'], [6.3, 2.5, 5.0, 1.9, 'Iris-virginica'], [4.8, 3.0, 1.4, 0.3, 'Iris-setosa'], [5.4, 3.7, 1.5, 0.2, 'Iris-setosa'], [6.3, 2.3, 4.4, 1.3, 'Iris-versicolor'], [6.3, 3.4, 5.6, 2.4, 'Iris-virginica'], [5.0, 3.4, 1.6, 0.4, 'Iris-setosa'], [5.8, 4.0, 1.2, 0.2, 'Iris-setosa'], [5.0, 2.0, 3.5, 1.0, 'Iris-versicolor'], [5.8, 2.8, 5.1, 2.4, 'Iris-virginica'], [6.7, 3.1, 4.4, 1.4, 'Iris-versicolor'], [4.3, 3.0, 1.1, 0.1, 'Iris-setosa'], [5.7, 2.6, 3.5, 1.0, 'Iris-versicolor'], [5.6, 2.9, 3.6, 1.3, 'Iris-versicolor'], [5.0, 3.6, 1.4, 0.2, 'Iris-setosa'], [7.4, 2.8, 6.1, 1.9, 'Iris-virginica'], [5.2, 3.4, 1.4, 0.2, 'Iris-setosa'], [6.4, 2.9, 4.3, 1.3, 'Iris-versicolor'], [5.9, 3.2, 4.8, 1.8, 'Iris-versicolor'], [5.7, 2.8, 4.5, 1.3, 'Iris-versicolor'], [4.9, 2.4, 3.3, 1.0, 'Iris-versicolor'], [6.1, 2.6, 5.6, 1.4, 'Iris-virginica'], [6.0, 2.2, 5.0, 1.5, 'Iris-virginica'], [6.3, 2.5, 4.9, 1.5, 'Iris-versicolor'], [5.1, 3.8, 1.5, 0.3, 'Iris-setosa'], [7.2, 3.2, 6.0, 1.8, 'Iris-virginica'], [5.5, 2.5, 4.0, 1.3, 'Iris-versicolor'], [5.1, 3.8, 1.6, 0.2, 'Iris-setosa'], [5.2, 4.1, 1.5, 0.1, 'Iris-setosa'], [5.2, 2.7, 3.9, 1.4, 'Iris-versicolor'], [4.8, 3.4, 1.9, 0.2, 'Iris-setosa'], [5.8, 2.7, 5.1, 1.9, 'Iris-virginica'], [6.6, 2.9, 4.6, 1.3, 'Iris-versicolor'], [5.5, 2.3, 4.0, 1.3, 'Iris-versicolor'], [4.6, 3.6, 1.0, 0.2, 'Iris-setosa'], [4.8, 3.4, 1.6, 0.2, 'Iris-setosa'], [5.8, 2.7, 5.1, 1.9, 'Iris-virginica'], [6.8, 3.2, 5.9, 2.3, 'Iris-virginica'], [5.7, 3.8, 1.7, 0.3, 'Iris-setosa'], [5.9, 3.0, 5.1, 1.8, 'Iris-virginica'], [5.9, 3.0, 4.2, 1.5, 'Iris-versicolor'], [6.3, 2.7, 4.9, 1.8, 'Iris-virginica'], [6.3, 3.3, 4.7, 1.6, 'Iris-versicolor'], [5.5, 3.5, 1.3, 0.2, 'Iris-setosa'], [5.4, 3.9, 1.3, 0.4, 'Iris-setosa'], [6.2, 3.4, 5.4, 2.3, 'Iris-virginica'], [6.3, 3.3, 6.0, 2.5, 'Iris-virginica'], [5.5, 2.6, 4.4, 1.2, 'Iris-versicolor'], [6.0, 3.4, 4.5, 1.6, 'Iris-versicolor'], [5.0, 3.2, 1.2, 0.2, 'Iris-setosa'], [5.1, 3.8, 1.9, 0.4, 'Iris-setosa'], [6.7, 3.3, 5.7, 2.5, 'Iris-virginica']]\n",
      "Train set: 0\n",
      "Test set: 150\n"
     ]
    },
    {
     "ename": "IndexError",
     "evalue": "list index out of range",
     "output_type": "error",
     "traceback": [
      "\u001b[1;31m---------------------------------------------------------------------------\u001b[0m",
      "\u001b[1;31mIndexError\u001b[0m                                Traceback (most recent call last)",
      "\u001b[1;32m<ipython-input-26-af86f567d350>\u001b[0m in \u001b[0;36m<module>\u001b[1;34m()\u001b[0m\n\u001b[0;32m     13\u001b[0m \u001b[0mk\u001b[0m \u001b[1;33m=\u001b[0m \u001b[1;36m2\u001b[0m\u001b[1;33m\u001b[0m\u001b[0m\n\u001b[0;32m     14\u001b[0m \u001b[1;32mfor\u001b[0m \u001b[0mx\u001b[0m \u001b[1;32min\u001b[0m \u001b[0mrange\u001b[0m\u001b[1;33m(\u001b[0m\u001b[0mlen\u001b[0m\u001b[1;33m(\u001b[0m\u001b[0mtestSet\u001b[0m\u001b[1;33m)\u001b[0m\u001b[1;33m)\u001b[0m\u001b[1;33m:\u001b[0m\u001b[1;33m\u001b[0m\u001b[0m\n\u001b[1;32m---> 15\u001b[1;33m         \u001b[0mneighbors\u001b[0m \u001b[1;33m=\u001b[0m \u001b[0mgetNeighbors\u001b[0m\u001b[1;33m(\u001b[0m\u001b[0mtrainingSet\u001b[0m\u001b[1;33m,\u001b[0m \u001b[0mtestSet\u001b[0m\u001b[1;33m[\u001b[0m\u001b[0mx\u001b[0m\u001b[1;33m]\u001b[0m\u001b[1;33m,\u001b[0m \u001b[0mk\u001b[0m\u001b[1;33m)\u001b[0m\u001b[1;33m\u001b[0m\u001b[0m\n\u001b[0m\u001b[0;32m     16\u001b[0m         \u001b[0mresult\u001b[0m \u001b[1;33m=\u001b[0m \u001b[0mgetResponse\u001b[0m\u001b[1;33m(\u001b[0m\u001b[0mneighbors\u001b[0m\u001b[1;33m)\u001b[0m\u001b[1;33m\u001b[0m\u001b[0m\n\u001b[0;32m     17\u001b[0m         \u001b[0mpredictions\u001b[0m\u001b[1;33m.\u001b[0m\u001b[0mappend\u001b[0m\u001b[1;33m(\u001b[0m\u001b[0mresult\u001b[0m\u001b[1;33m)\u001b[0m\u001b[1;33m\u001b[0m\u001b[0m\n",
      "\u001b[1;32m<ipython-input-23-5c5dd430a759>\u001b[0m in \u001b[0;36mgetNeighbors\u001b[1;34m(trainingSet, testInstance, k)\u001b[0m\n\u001b[0;32m     16\u001b[0m         \u001b[0mneighbors\u001b[0m \u001b[1;33m=\u001b[0m \u001b[1;33m[\u001b[0m\u001b[1;33m]\u001b[0m\u001b[1;33m\u001b[0m\u001b[0m\n\u001b[0;32m     17\u001b[0m         \u001b[1;32mfor\u001b[0m \u001b[0mx\u001b[0m \u001b[1;32min\u001b[0m \u001b[0mrange\u001b[0m\u001b[1;33m(\u001b[0m\u001b[0mk\u001b[0m\u001b[1;33m)\u001b[0m\u001b[1;33m:\u001b[0m\u001b[1;33m\u001b[0m\u001b[0m\n\u001b[1;32m---> 18\u001b[1;33m                 \u001b[0mneighbors\u001b[0m\u001b[1;33m.\u001b[0m\u001b[0mappend\u001b[0m\u001b[1;33m(\u001b[0m\u001b[0mdistances\u001b[0m\u001b[1;33m[\u001b[0m\u001b[0mx\u001b[0m\u001b[1;33m]\u001b[0m\u001b[1;33m[\u001b[0m\u001b[1;36m0\u001b[0m\u001b[1;33m]\u001b[0m\u001b[1;33m)\u001b[0m\u001b[1;33m\u001b[0m\u001b[0m\n\u001b[0m\u001b[0;32m     19\u001b[0m         \u001b[1;32mreturn\u001b[0m \u001b[0mneighbors\u001b[0m\u001b[1;33m\u001b[0m\u001b[0m\n",
      "\u001b[1;31mIndexError\u001b[0m: list index out of range"
     ]
    }
   ],
   "source": [
    "# prepare data\n",
    "trainingSet=[]\n",
    "testSet=[]\n",
    "split = 0.66 # The ratio between training set and test set\n",
    "    \n",
    "    \n",
    "loadDataset('iris.data', split, trainingSet, testSet)\n",
    "print ('Train set: ' + str(len(trainingSet)))\n",
    "print ('Test set: ' + str(len(testSet)))\n",
    "# generate predictions\n",
    "predictions=[]\n",
    "#Feel free to change this value and analyze the accuracy\n",
    "k = 2\n",
    "for x in range(len(testSet)):\n",
    "\tneighbors = getNeighbors(trainingSet, testSet[x], k)\n",
    "\tresult = getResponse(neighbors)\n",
    "\tpredictions.append(result)\n",
    "\tprint('> predicted=' + repr(result) + ', actual=' + repr(testSet[x][-1]))\n",
    "accuracy = getAccuracy(testSet, predictions)\n",
    "print('Accuracy: ' + repr(accuracy) + '%')"
   ]
  },
  {
   "cell_type": "code",
   "execution_count": null,
   "metadata": {},
   "outputs": [],
   "source": []
  },
  {
   "cell_type": "code",
   "execution_count": null,
   "metadata": {},
   "outputs": [],
   "source": []
  }
 ],
 "metadata": {
  "kernelspec": {
   "display_name": "Python 3",
   "language": "python",
   "name": "python3"
  },
  "language_info": {
   "codemirror_mode": {
    "name": "ipython",
    "version": 3
   },
   "file_extension": ".py",
   "mimetype": "text/x-python",
   "name": "python",
   "nbconvert_exporter": "python",
   "pygments_lexer": "ipython3",
   "version": "3.6.4"
  }
 },
 "nbformat": 4,
 "nbformat_minor": 2
}

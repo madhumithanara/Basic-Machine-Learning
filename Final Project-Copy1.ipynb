{
 "cells": [
  {
   "cell_type": "code",
   "execution_count": 188,
   "metadata": {},
   "outputs": [],
   "source": [
    "import random\n",
    "import csv\n",
    "import math\n",
    "import operator"
   ]
  },
  {
   "cell_type": "code",
   "execution_count": 218,
   "metadata": {},
   "outputs": [],
   "source": [
    "#loading the data and splitting it into test and training set RANDOMLY\n",
    "\n",
    "def define_sets(filename, split_percent, trainingSet=[] , testSet=[]):\n",
    "    '''loads the data and splits into test and training randomly'''\n",
    "    with open(filename, 'rt') as csvfile: #opening the file\n",
    "        lines = csv.reader(csvfile) #creates object\n",
    "        dataSet = list(lines) #dataset is a 2D array whose each element is an array of four attributes and one name\n",
    "        \n",
    "        del dataSet[-1]        \n",
    "        print(dataSet)\n",
    "        \n",
    "        #four attributes are in str form. we convert it into float\n",
    "        for x in range(0,len(dataSet)-1): #last entry in dataset is blank\n",
    "            for y in range(0,4):\n",
    "                dataSet[x][y] = float(dataSet[x][y]) #typecasting the attributes\n",
    "\n",
    "\n",
    "        #splitting into training and test sets        \n",
    "        dataSetcopy = dataSet\n",
    "        random.shuffle(dataSetcopy)\n",
    "        length_train = int(split_percent * (len(dataSet)-1) / 100)\n",
    "\n",
    "\n",
    "        for a in range(0,len(dataSetcopy)-1):\n",
    "            if (a<length_train):\n",
    "                trainingSet.append(dataSetcopy[a])\n",
    "            else:\n",
    "                testSet.append(dataSetcopy[a])\n",
    "        \n",
    "\n",
    "                "
   ]
  },
  {
   "cell_type": "code",
   "execution_count": 219,
   "metadata": {},
   "outputs": [],
   "source": [
    "#Calculating \"distance\" between a given instance and an entry from the training set \n",
    "\n",
    "'''def distance(one,two,attribute_number):\n",
    "    distance_sq = 0\n",
    "    for x in range(0,attribute_number):\n",
    "        distance_sq = distance_sq + (one[x] - two[x])**2\n",
    "    return math.sqrt(distance_sq)'''\n",
    "\n",
    "import math\n",
    "def distance(instance1, instance2, length):\n",
    "\tdistance = 0\n",
    "\tfor b in range(length):\n",
    "\t\tdistance += (instance1[b] - instance2[b])**2\n",
    "\treturn math.sqrt(distance)\n"
   ]
  },
  {
   "cell_type": "code",
   "execution_count": 220,
   "metadata": {},
   "outputs": [],
   "source": [
    "#Finding Euclid distance between a given sample and all entries in the training set\n",
    "\n",
    "#Finding the 'k' nearest entries in the training set i.e, K-Nearest Neighbors!\n",
    "\n",
    "'''def finding_neighbours(trainingSet,instance,k):\n",
    "    distances_list = []\n",
    "    attribute_number = len(instance)-1\n",
    "    for c in range(0,len(trainingSet)):\n",
    "        dist = distance(trainingSet[c],instance,attribute_number)\n",
    "        distances_list.append((trainingSet[c],dist))\n",
    "        print('jfd')\n",
    "    \n",
    "    distances_list.sort(key=operator.itemgetter(1))\n",
    "    print(distances_list)\n",
    "    \n",
    "    #finding the k-nearest neighbors\n",
    "    k_neighbours = []\n",
    "    for d in range(0,k):\n",
    "        k_neighbours.append(distances_list[d][0])\n",
    "    \n",
    "    print(k_neighbours)'''\n",
    "\n",
    "import operator \n",
    "def finding_neighbours(trainingSet, testInstance, k):\n",
    "\tdistances = []\n",
    "\tlength = len(testInstance)-1\n",
    "\tfor h in range(len(trainingSet)):\n",
    "\t\tdist = distance(testInstance, trainingSet[h], length)\n",
    "\t\tdistances.append((trainingSet[h], dist))\n",
    "\tdistances.sort(key=operator.itemgetter(1))\n",
    "\tneighbors = []\n",
    "\tfor i in range(k):\n",
    "\t\tneighbors.append(distances[i][0])\n",
    "\treturn neighbors\n",
    "\n"
   ]
  },
  {
   "cell_type": "code",
   "execution_count": 221,
   "metadata": {},
   "outputs": [],
   "source": [
    "#Voting and getting a projected result\n",
    "\n",
    "def predicting_result(k_neighbours):\n",
    "    vote_array = [] #name,votes\n",
    "    k_neighbours(key=operator.itemgetter(4))\n",
    "    \n",
    "\n",
    "        "
   ]
  },
  {
   "cell_type": "code",
   "execution_count": 222,
   "metadata": {},
   "outputs": [
    {
     "name": "stdout",
     "output_type": "stream",
     "text": [
      "[['5.1', '3.5', '1.4', '0.2', 'Iris-setosa'], ['4.9', '3.0', '1.4', '0.2', 'Iris-setosa'], ['4.7', '3.2', '1.3', '0.2', 'Iris-setosa'], ['4.6', '3.1', '1.5', '0.2', 'Iris-setosa'], ['5.0', '3.6', '1.4', '0.2', 'Iris-setosa'], ['5.4', '3.9', '1.7', '0.4', 'Iris-setosa'], ['4.6', '3.4', '1.4', '0.3', 'Iris-setosa'], ['5.0', '3.4', '1.5', '0.2', 'Iris-setosa'], ['4.4', '2.9', '1.4', '0.2', 'Iris-setosa'], ['4.9', '3.1', '1.5', '0.1', 'Iris-setosa'], ['5.4', '3.7', '1.5', '0.2', 'Iris-setosa'], ['4.8', '3.4', '1.6', '0.2', 'Iris-setosa'], ['4.8', '3.0', '1.4', '0.1', 'Iris-setosa'], ['4.3', '3.0', '1.1', '0.1', 'Iris-setosa'], ['5.8', '4.0', '1.2', '0.2', 'Iris-setosa'], ['5.7', '4.4', '1.5', '0.4', 'Iris-setosa'], ['5.4', '3.9', '1.3', '0.4', 'Iris-setosa'], ['5.1', '3.5', '1.4', '0.3', 'Iris-setosa'], ['5.7', '3.8', '1.7', '0.3', 'Iris-setosa'], ['5.1', '3.8', '1.5', '0.3', 'Iris-setosa'], ['5.4', '3.4', '1.7', '0.2', 'Iris-setosa'], ['5.1', '3.7', '1.5', '0.4', 'Iris-setosa'], ['4.6', '3.6', '1.0', '0.2', 'Iris-setosa'], ['5.1', '3.3', '1.7', '0.5', 'Iris-setosa'], ['4.8', '3.4', '1.9', '0.2', 'Iris-setosa'], ['5.0', '3.0', '1.6', '0.2', 'Iris-setosa'], ['5.0', '3.4', '1.6', '0.4', 'Iris-setosa'], ['5.2', '3.5', '1.5', '0.2', 'Iris-setosa'], ['5.2', '3.4', '1.4', '0.2', 'Iris-setosa'], ['4.7', '3.2', '1.6', '0.2', 'Iris-setosa'], ['4.8', '3.1', '1.6', '0.2', 'Iris-setosa'], ['5.4', '3.4', '1.5', '0.4', 'Iris-setosa'], ['5.2', '4.1', '1.5', '0.1', 'Iris-setosa'], ['5.5', '4.2', '1.4', '0.2', 'Iris-setosa'], ['4.9', '3.1', '1.5', '0.1', 'Iris-setosa'], ['5.0', '3.2', '1.2', '0.2', 'Iris-setosa'], ['5.5', '3.5', '1.3', '0.2', 'Iris-setosa'], ['4.9', '3.1', '1.5', '0.1', 'Iris-setosa'], ['4.4', '3.0', '1.3', '0.2', 'Iris-setosa'], ['5.1', '3.4', '1.5', '0.2', 'Iris-setosa'], ['5.0', '3.5', '1.3', '0.3', 'Iris-setosa'], ['4.5', '2.3', '1.3', '0.3', 'Iris-setosa'], ['4.4', '3.2', '1.3', '0.2', 'Iris-setosa'], ['5.0', '3.5', '1.6', '0.6', 'Iris-setosa'], ['5.1', '3.8', '1.9', '0.4', 'Iris-setosa'], ['4.8', '3.0', '1.4', '0.3', 'Iris-setosa'], ['5.1', '3.8', '1.6', '0.2', 'Iris-setosa'], ['4.6', '3.2', '1.4', '0.2', 'Iris-setosa'], ['5.3', '3.7', '1.5', '0.2', 'Iris-setosa'], ['5.0', '3.3', '1.4', '0.2', 'Iris-setosa'], ['7.0', '3.2', '4.7', '1.4', 'Iris-versicolor'], ['6.4', '3.2', '4.5', '1.5', 'Iris-versicolor'], ['6.9', '3.1', '4.9', '1.5', 'Iris-versicolor'], ['5.5', '2.3', '4.0', '1.3', 'Iris-versicolor'], ['6.5', '2.8', '4.6', '1.5', 'Iris-versicolor'], ['5.7', '2.8', '4.5', '1.3', 'Iris-versicolor'], ['6.3', '3.3', '4.7', '1.6', 'Iris-versicolor'], ['4.9', '2.4', '3.3', '1.0', 'Iris-versicolor'], ['6.6', '2.9', '4.6', '1.3', 'Iris-versicolor'], ['5.2', '2.7', '3.9', '1.4', 'Iris-versicolor'], ['5.0', '2.0', '3.5', '1.0', 'Iris-versicolor'], ['5.9', '3.0', '4.2', '1.5', 'Iris-versicolor'], ['6.0', '2.2', '4.0', '1.0', 'Iris-versicolor'], ['6.1', '2.9', '4.7', '1.4', 'Iris-versicolor'], ['5.6', '2.9', '3.6', '1.3', 'Iris-versicolor'], ['6.7', '3.1', '4.4', '1.4', 'Iris-versicolor'], ['5.6', '3.0', '4.5', '1.5', 'Iris-versicolor'], ['5.8', '2.7', '4.1', '1.0', 'Iris-versicolor'], ['6.2', '2.2', '4.5', '1.5', 'Iris-versicolor'], ['5.6', '2.5', '3.9', '1.1', 'Iris-versicolor'], ['5.9', '3.2', '4.8', '1.8', 'Iris-versicolor'], ['6.1', '2.8', '4.0', '1.3', 'Iris-versicolor'], ['6.3', '2.5', '4.9', '1.5', 'Iris-versicolor'], ['6.1', '2.8', '4.7', '1.2', 'Iris-versicolor'], ['6.4', '2.9', '4.3', '1.3', 'Iris-versicolor'], ['6.6', '3.0', '4.4', '1.4', 'Iris-versicolor'], ['6.8', '2.8', '4.8', '1.4', 'Iris-versicolor'], ['6.7', '3.0', '5.0', '1.7', 'Iris-versicolor'], ['6.0', '2.9', '4.5', '1.5', 'Iris-versicolor'], ['5.7', '2.6', '3.5', '1.0', 'Iris-versicolor'], ['5.5', '2.4', '3.8', '1.1', 'Iris-versicolor'], ['5.5', '2.4', '3.7', '1.0', 'Iris-versicolor'], ['5.8', '2.7', '3.9', '1.2', 'Iris-versicolor'], ['6.0', '2.7', '5.1', '1.6', 'Iris-versicolor'], ['5.4', '3.0', '4.5', '1.5', 'Iris-versicolor'], ['6.0', '3.4', '4.5', '1.6', 'Iris-versicolor'], ['6.7', '3.1', '4.7', '1.5', 'Iris-versicolor'], ['6.3', '2.3', '4.4', '1.3', 'Iris-versicolor'], ['5.6', '3.0', '4.1', '1.3', 'Iris-versicolor'], ['5.5', '2.5', '4.0', '1.3', 'Iris-versicolor'], ['5.5', '2.6', '4.4', '1.2', 'Iris-versicolor'], ['6.1', '3.0', '4.6', '1.4', 'Iris-versicolor'], ['5.8', '2.6', '4.0', '1.2', 'Iris-versicolor'], ['5.0', '2.3', '3.3', '1.0', 'Iris-versicolor'], ['5.6', '2.7', '4.2', '1.3', 'Iris-versicolor'], ['5.7', '3.0', '4.2', '1.2', 'Iris-versicolor'], ['5.7', '2.9', '4.2', '1.3', 'Iris-versicolor'], ['6.2', '2.9', '4.3', '1.3', 'Iris-versicolor'], ['5.1', '2.5', '3.0', '1.1', 'Iris-versicolor'], ['5.7', '2.8', '4.1', '1.3', 'Iris-versicolor'], ['6.3', '3.3', '6.0', '2.5', 'Iris-virginica'], ['5.8', '2.7', '5.1', '1.9', 'Iris-virginica'], ['7.1', '3.0', '5.9', '2.1', 'Iris-virginica'], ['6.3', '2.9', '5.6', '1.8', 'Iris-virginica'], ['6.5', '3.0', '5.8', '2.2', 'Iris-virginica'], ['7.6', '3.0', '6.6', '2.1', 'Iris-virginica'], ['4.9', '2.5', '4.5', '1.7', 'Iris-virginica'], ['7.3', '2.9', '6.3', '1.8', 'Iris-virginica'], ['6.7', '2.5', '5.8', '1.8', 'Iris-virginica'], ['7.2', '3.6', '6.1', '2.5', 'Iris-virginica'], ['6.5', '3.2', '5.1', '2.0', 'Iris-virginica'], ['6.4', '2.7', '5.3', '1.9', 'Iris-virginica'], ['6.8', '3.0', '5.5', '2.1', 'Iris-virginica'], ['5.7', '2.5', '5.0', '2.0', 'Iris-virginica'], ['5.8', '2.8', '5.1', '2.4', 'Iris-virginica'], ['6.4', '3.2', '5.3', '2.3', 'Iris-virginica'], ['6.5', '3.0', '5.5', '1.8', 'Iris-virginica'], ['7.7', '3.8', '6.7', '2.2', 'Iris-virginica'], ['7.7', '2.6', '6.9', '2.3', 'Iris-virginica'], ['6.0', '2.2', '5.0', '1.5', 'Iris-virginica'], ['6.9', '3.2', '5.7', '2.3', 'Iris-virginica'], ['5.6', '2.8', '4.9', '2.0', 'Iris-virginica'], ['7.7', '2.8', '6.7', '2.0', 'Iris-virginica'], ['6.3', '2.7', '4.9', '1.8', 'Iris-virginica'], ['6.7', '3.3', '5.7', '2.1', 'Iris-virginica'], ['7.2', '3.2', '6.0', '1.8', 'Iris-virginica'], ['6.2', '2.8', '4.8', '1.8', 'Iris-virginica'], ['6.1', '3.0', '4.9', '1.8', 'Iris-virginica'], ['6.4', '2.8', '5.6', '2.1', 'Iris-virginica'], ['7.2', '3.0', '5.8', '1.6', 'Iris-virginica'], ['7.4', '2.8', '6.1', '1.9', 'Iris-virginica'], ['7.9', '3.8', '6.4', '2.0', 'Iris-virginica'], ['6.4', '2.8', '5.6', '2.2', 'Iris-virginica'], ['6.3', '2.8', '5.1', '1.5', 'Iris-virginica'], ['6.1', '2.6', '5.6', '1.4', 'Iris-virginica'], ['7.7', '3.0', '6.1', '2.3', 'Iris-virginica'], ['6.3', '3.4', '5.6', '2.4', 'Iris-virginica'], ['6.4', '3.1', '5.5', '1.8', 'Iris-virginica'], ['6.0', '3.0', '4.8', '1.8', 'Iris-virginica'], ['6.9', '3.1', '5.4', '2.1', 'Iris-virginica'], ['6.7', '3.1', '5.6', '2.4', 'Iris-virginica'], ['6.9', '3.1', '5.1', '2.3', 'Iris-virginica'], ['5.8', '2.7', '5.1', '1.9', 'Iris-virginica'], ['6.8', '3.2', '5.9', '2.3', 'Iris-virginica'], ['6.7', '3.3', '5.7', '2.5', 'Iris-virginica'], ['6.7', '3.0', '5.2', '2.3', 'Iris-virginica'], ['6.3', '2.5', '5.0', '1.9', 'Iris-virginica'], ['6.5', '3.0', '5.2', '2.0', 'Iris-virginica'], ['6.2', '3.4', '5.4', '2.3', 'Iris-virginica'], ['5.9', '3.0', '5.1', '1.8', 'Iris-virginica']]\n",
      "Train set: 98\n",
      "Test set: 51\n",
      "[[5.1, 3.5, 1.4, 0.3, 'Iris-setosa'], [4.9, 2.5, 4.5, 1.7, 'Iris-virginica'], [5.7, 2.6, 3.5, 1.0, 'Iris-versicolor'], [6.7, 3.1, 4.7, 1.5, 'Iris-versicolor'], [5.7, 3.0, 4.2, 1.2, 'Iris-versicolor'], [5.5, 2.6, 4.4, 1.2, 'Iris-versicolor'], [6.8, 3.2, 5.9, 2.3, 'Iris-virginica'], [4.4, 3.2, 1.3, 0.2, 'Iris-setosa'], [4.8, 3.4, 1.9, 0.2, 'Iris-setosa'], [6.7, 3.0, 5.0, 1.7, 'Iris-versicolor'], [6.2, 3.4, 5.4, 2.3, 'Iris-virginica'], [5.9, 3.2, 4.8, 1.8, 'Iris-versicolor'], [6.0, 3.4, 4.5, 1.6, 'Iris-versicolor'], [5.6, 2.5, 3.9, 1.1, 'Iris-versicolor'], [4.8, 3.4, 1.6, 0.2, 'Iris-setosa'], [5.4, 3.9, 1.7, 0.4, 'Iris-setosa'], [5.2, 3.5, 1.5, 0.2, 'Iris-setosa'], [5.6, 2.8, 4.9, 2.0, 'Iris-virginica'], [5.0, 3.5, 1.3, 0.3, 'Iris-setosa'], [5.8, 4.0, 1.2, 0.2, 'Iris-setosa'], [5.1, 3.8, 1.6, 0.2, 'Iris-setosa'], [5.4, 3.4, 1.5, 0.4, 'Iris-setosa'], [5.1, 3.7, 1.5, 0.4, 'Iris-setosa'], [6.7, 3.3, 5.7, 2.5, 'Iris-virginica'], [7.6, 3.0, 6.6, 2.1, 'Iris-virginica'], [6.4, 3.2, 5.3, 2.3, 'Iris-virginica'], [6.9, 3.1, 5.4, 2.1, 'Iris-virginica'], [5.1, 3.8, 1.9, 0.4, 'Iris-setosa'], [6.9, 3.1, 5.1, 2.3, 'Iris-virginica'], ['5.9', '3.0', '5.1', '1.8', 'Iris-virginica'], [6.3, 2.3, 4.4, 1.3, 'Iris-versicolor'], [4.9, 2.4, 3.3, 1.0, 'Iris-versicolor'], [5.1, 3.5, 1.4, 0.2, 'Iris-setosa'], [7.7, 3.8, 6.7, 2.2, 'Iris-virginica'], [5.1, 3.3, 1.7, 0.5, 'Iris-setosa'], [5.5, 2.4, 3.8, 1.1, 'Iris-versicolor'], [4.9, 3.1, 1.5, 0.1, 'Iris-setosa'], [5.7, 4.4, 1.5, 0.4, 'Iris-setosa'], [5.5, 2.5, 4.0, 1.3, 'Iris-versicolor'], [6.7, 3.3, 5.7, 2.1, 'Iris-virginica'], [7.7, 2.6, 6.9, 2.3, 'Iris-virginica'], [6.3, 2.5, 5.0, 1.9, 'Iris-virginica'], [5.1, 3.4, 1.5, 0.2, 'Iris-setosa'], [6.7, 3.0, 5.2, 2.3, 'Iris-virginica'], [5.5, 2.3, 4.0, 1.3, 'Iris-versicolor'], [4.6, 3.2, 1.4, 0.2, 'Iris-setosa'], [6.5, 2.8, 4.6, 1.5, 'Iris-versicolor'], [7.3, 2.9, 6.3, 1.8, 'Iris-virginica'], [7.0, 3.2, 4.7, 1.4, 'Iris-versicolor'], [5.0, 3.6, 1.4, 0.2, 'Iris-setosa'], [5.9, 3.0, 4.2, 1.5, 'Iris-versicolor'], [4.6, 3.4, 1.4, 0.3, 'Iris-setosa'], [4.8, 3.0, 1.4, 0.1, 'Iris-setosa'], [5.0, 2.3, 3.3, 1.0, 'Iris-versicolor'], [6.1, 2.6, 5.6, 1.4, 'Iris-virginica'], [5.4, 3.9, 1.3, 0.4, 'Iris-setosa'], [5.5, 4.2, 1.4, 0.2, 'Iris-setosa'], [6.4, 2.9, 4.3, 1.3, 'Iris-versicolor'], [6.3, 3.4, 5.6, 2.4, 'Iris-virginica'], [6.3, 3.3, 6.0, 2.5, 'Iris-virginica'], [5.1, 3.8, 1.5, 0.3, 'Iris-setosa'], [7.2, 3.6, 6.1, 2.5, 'Iris-virginica'], [4.7, 3.2, 1.6, 0.2, 'Iris-setosa'], [7.7, 2.8, 6.7, 2.0, 'Iris-virginica'], [7.2, 3.2, 6.0, 1.8, 'Iris-virginica'], [5.6, 3.0, 4.1, 1.3, 'Iris-versicolor'], [5.1, 2.5, 3.0, 1.1, 'Iris-versicolor'], [4.5, 2.3, 1.3, 0.3, 'Iris-setosa'], [5.7, 3.8, 1.7, 0.3, 'Iris-setosa'], [4.8, 3.1, 1.6, 0.2, 'Iris-setosa'], [5.8, 2.7, 5.1, 1.9, 'Iris-virginica'], [6.5, 3.0, 5.2, 2.0, 'Iris-virginica'], [6.0, 3.0, 4.8, 1.8, 'Iris-virginica'], [6.6, 3.0, 4.4, 1.4, 'Iris-versicolor'], [4.9, 3.0, 1.4, 0.2, 'Iris-setosa'], [6.7, 3.1, 5.6, 2.4, 'Iris-virginica'], [4.4, 2.9, 1.4, 0.2, 'Iris-setosa'], [5.6, 2.9, 3.6, 1.3, 'Iris-versicolor'], [5.5, 2.4, 3.7, 1.0, 'Iris-versicolor'], [6.5, 3.0, 5.5, 1.8, 'Iris-virginica'], [4.6, 3.6, 1.0, 0.2, 'Iris-setosa'], [5.0, 3.3, 1.4, 0.2, 'Iris-setosa'], [6.1, 3.0, 4.9, 1.8, 'Iris-virginica'], [6.1, 2.9, 4.7, 1.4, 'Iris-versicolor'], [5.8, 2.7, 3.9, 1.2, 'Iris-versicolor'], [7.1, 3.0, 5.9, 2.1, 'Iris-virginica'], [5.7, 2.5, 5.0, 2.0, 'Iris-virginica'], [5.7, 2.8, 4.5, 1.3, 'Iris-versicolor'], [6.0, 2.7, 5.1, 1.6, 'Iris-versicolor'], [6.8, 2.8, 4.8, 1.4, 'Iris-versicolor'], [5.6, 2.7, 4.2, 1.3, 'Iris-versicolor'], [5.4, 3.7, 1.5, 0.2, 'Iris-setosa'], [6.2, 2.2, 4.5, 1.5, 'Iris-versicolor'], [4.6, 3.1, 1.5, 0.2, 'Iris-setosa'], [5.8, 2.7, 5.1, 1.9, 'Iris-virginica'], [5.8, 2.7, 4.1, 1.0, 'Iris-versicolor'], [6.5, 3.0, 5.8, 2.2, 'Iris-virginica'], [5.2, 2.7, 3.9, 1.4, 'Iris-versicolor']]\n",
      "[[4.8, 3.0, 1.4, 0.3, 'Iris-setosa'], [5.0, 3.4, 1.5, 0.2, 'Iris-setosa'], [4.7, 3.2, 1.3, 0.2, 'Iris-setosa'], [6.5, 3.2, 5.1, 2.0, 'Iris-virginica'], [6.4, 2.8, 5.6, 2.1, 'Iris-virginica'], [5.4, 3.4, 1.7, 0.2, 'Iris-setosa'], [5.7, 2.9, 4.2, 1.3, 'Iris-versicolor'], [6.1, 2.8, 4.7, 1.2, 'Iris-versicolor'], [5.2, 3.4, 1.4, 0.2, 'Iris-setosa'], [5.8, 2.8, 5.1, 2.4, 'Iris-virginica'], [5.3, 3.7, 1.5, 0.2, 'Iris-setosa'], [6.9, 3.2, 5.7, 2.3, 'Iris-virginica'], [7.7, 3.0, 6.1, 2.3, 'Iris-virginica'], [6.3, 3.3, 4.7, 1.6, 'Iris-versicolor'], [4.9, 3.1, 1.5, 0.1, 'Iris-setosa'], [4.9, 3.1, 1.5, 0.1, 'Iris-setosa'], [7.9, 3.8, 6.4, 2.0, 'Iris-virginica'], [5.2, 4.1, 1.5, 0.1, 'Iris-setosa'], [7.2, 3.0, 5.8, 1.6, 'Iris-virginica'], [6.4, 3.1, 5.5, 1.8, 'Iris-virginica'], [6.3, 2.8, 5.1, 1.5, 'Iris-virginica'], [5.0, 3.2, 1.2, 0.2, 'Iris-setosa'], [6.8, 3.0, 5.5, 2.1, 'Iris-virginica'], [6.4, 3.2, 4.5, 1.5, 'Iris-versicolor'], [5.5, 3.5, 1.3, 0.2, 'Iris-setosa'], [6.1, 2.8, 4.0, 1.3, 'Iris-versicolor'], [6.4, 2.8, 5.6, 2.2, 'Iris-virginica'], [6.0, 2.2, 5.0, 1.5, 'Iris-virginica'], [4.3, 3.0, 1.1, 0.1, 'Iris-setosa'], [6.7, 3.1, 4.4, 1.4, 'Iris-versicolor'], [5.0, 3.5, 1.6, 0.6, 'Iris-setosa'], [6.3, 2.5, 4.9, 1.5, 'Iris-versicolor'], [4.4, 3.0, 1.3, 0.2, 'Iris-setosa'], [5.4, 3.0, 4.5, 1.5, 'Iris-versicolor'], [5.7, 2.8, 4.1, 1.3, 'Iris-versicolor'], [5.0, 3.0, 1.6, 0.2, 'Iris-setosa'], [5.0, 2.0, 3.5, 1.0, 'Iris-versicolor'], [6.0, 2.2, 4.0, 1.0, 'Iris-versicolor'], [7.4, 2.8, 6.1, 1.9, 'Iris-virginica'], [6.2, 2.8, 4.8, 1.8, 'Iris-virginica'], [5.8, 2.6, 4.0, 1.2, 'Iris-versicolor'], [6.3, 2.9, 5.6, 1.8, 'Iris-virginica'], [6.0, 2.9, 4.5, 1.5, 'Iris-versicolor'], [5.6, 3.0, 4.5, 1.5, 'Iris-versicolor'], [5.0, 3.4, 1.6, 0.4, 'Iris-setosa'], [6.2, 2.9, 4.3, 1.3, 'Iris-versicolor'], [6.9, 3.1, 4.9, 1.5, 'Iris-versicolor'], [6.6, 2.9, 4.6, 1.3, 'Iris-versicolor'], [6.4, 2.7, 5.3, 1.9, 'Iris-virginica'], [6.3, 2.7, 4.9, 1.8, 'Iris-virginica'], [6.7, 2.5, 5.8, 1.8, 'Iris-virginica']]\n"
     ]
    },
    {
     "ename": "TypeError",
     "evalue": "'float' object is not subscriptable",
     "output_type": "error",
     "traceback": [
      "\u001b[1;31m---------------------------------------------------------------------------\u001b[0m",
      "\u001b[1;31mTypeError\u001b[0m                                 Traceback (most recent call last)",
      "\u001b[1;32m<ipython-input-222-20eb3de5b673>\u001b[0m in \u001b[0;36m<module>\u001b[1;34m()\u001b[0m\n\u001b[0;32m     14\u001b[0m \u001b[0mk\u001b[0m \u001b[1;33m=\u001b[0m \u001b[1;36m3\u001b[0m\u001b[1;33m\u001b[0m\u001b[0m\n\u001b[0;32m     15\u001b[0m \u001b[1;33m\u001b[0m\u001b[0m\n\u001b[1;32m---> 16\u001b[1;33m \u001b[0mk_neighbours\u001b[0m \u001b[1;33m=\u001b[0m \u001b[0mfinding_neighbours\u001b[0m\u001b[1;33m(\u001b[0m\u001b[0mtestSet\u001b[0m\u001b[1;33m[\u001b[0m\u001b[1;36m0\u001b[0m\u001b[1;33m]\u001b[0m\u001b[1;33m,\u001b[0m\u001b[0mtrainingSet\u001b[0m\u001b[1;33m,\u001b[0m\u001b[0mk\u001b[0m\u001b[1;33m)\u001b[0m\u001b[1;33m\u001b[0m\u001b[0m\n\u001b[0m\u001b[0;32m     17\u001b[0m \u001b[0mprint\u001b[0m\u001b[1;33m(\u001b[0m\u001b[0mk_neighbours\u001b[0m\u001b[1;33m)\u001b[0m\u001b[1;33m\u001b[0m\u001b[0m\n\u001b[0;32m     18\u001b[0m \u001b[1;33m\u001b[0m\u001b[0m\n",
      "\u001b[1;32m<ipython-input-220-8db12bf86d47>\u001b[0m in \u001b[0;36mfinding_neighbours\u001b[1;34m(trainingSet, testInstance, k)\u001b[0m\n\u001b[0;32m     26\u001b[0m         \u001b[0mlength\u001b[0m \u001b[1;33m=\u001b[0m \u001b[0mlen\u001b[0m\u001b[1;33m(\u001b[0m\u001b[0mtestInstance\u001b[0m\u001b[1;33m)\u001b[0m\u001b[1;33m-\u001b[0m\u001b[1;36m1\u001b[0m\u001b[1;33m\u001b[0m\u001b[0m\n\u001b[0;32m     27\u001b[0m         \u001b[1;32mfor\u001b[0m \u001b[0mh\u001b[0m \u001b[1;32min\u001b[0m \u001b[0mrange\u001b[0m\u001b[1;33m(\u001b[0m\u001b[0mlen\u001b[0m\u001b[1;33m(\u001b[0m\u001b[0mtrainingSet\u001b[0m\u001b[1;33m)\u001b[0m\u001b[1;33m)\u001b[0m\u001b[1;33m:\u001b[0m\u001b[1;33m\u001b[0m\u001b[0m\n\u001b[1;32m---> 28\u001b[1;33m                 \u001b[0mdist\u001b[0m \u001b[1;33m=\u001b[0m \u001b[0mdistance\u001b[0m\u001b[1;33m(\u001b[0m\u001b[0mtestInstance\u001b[0m\u001b[1;33m,\u001b[0m \u001b[0mtrainingSet\u001b[0m\u001b[1;33m[\u001b[0m\u001b[0mh\u001b[0m\u001b[1;33m]\u001b[0m\u001b[1;33m,\u001b[0m \u001b[0mlength\u001b[0m\u001b[1;33m)\u001b[0m\u001b[1;33m\u001b[0m\u001b[0m\n\u001b[0m\u001b[0;32m     29\u001b[0m                 \u001b[0mdistances\u001b[0m\u001b[1;33m.\u001b[0m\u001b[0mappend\u001b[0m\u001b[1;33m(\u001b[0m\u001b[1;33m(\u001b[0m\u001b[0mtrainingSet\u001b[0m\u001b[1;33m[\u001b[0m\u001b[0mh\u001b[0m\u001b[1;33m]\u001b[0m\u001b[1;33m,\u001b[0m \u001b[0mdist\u001b[0m\u001b[1;33m)\u001b[0m\u001b[1;33m)\u001b[0m\u001b[1;33m\u001b[0m\u001b[0m\n\u001b[0;32m     30\u001b[0m         \u001b[0mdistances\u001b[0m\u001b[1;33m.\u001b[0m\u001b[0msort\u001b[0m\u001b[1;33m(\u001b[0m\u001b[0mkey\u001b[0m\u001b[1;33m=\u001b[0m\u001b[0moperator\u001b[0m\u001b[1;33m.\u001b[0m\u001b[0mitemgetter\u001b[0m\u001b[1;33m(\u001b[0m\u001b[1;36m1\u001b[0m\u001b[1;33m)\u001b[0m\u001b[1;33m)\u001b[0m\u001b[1;33m\u001b[0m\u001b[0m\n",
      "\u001b[1;32m<ipython-input-219-0ef7a432cbf9>\u001b[0m in \u001b[0;36mdistance\u001b[1;34m(instance1, instance2, length)\u001b[0m\n\u001b[0;32m     11\u001b[0m         \u001b[0mdistance\u001b[0m \u001b[1;33m=\u001b[0m \u001b[1;36m0\u001b[0m\u001b[1;33m\u001b[0m\u001b[0m\n\u001b[0;32m     12\u001b[0m         \u001b[1;32mfor\u001b[0m \u001b[0mb\u001b[0m \u001b[1;32min\u001b[0m \u001b[0mrange\u001b[0m\u001b[1;33m(\u001b[0m\u001b[0mlength\u001b[0m\u001b[1;33m)\u001b[0m\u001b[1;33m:\u001b[0m\u001b[1;33m\u001b[0m\u001b[0m\n\u001b[1;32m---> 13\u001b[1;33m                 \u001b[0mdistance\u001b[0m \u001b[1;33m+=\u001b[0m \u001b[1;33m(\u001b[0m\u001b[0minstance1\u001b[0m\u001b[1;33m[\u001b[0m\u001b[0mb\u001b[0m\u001b[1;33m]\u001b[0m \u001b[1;33m-\u001b[0m \u001b[0minstance2\u001b[0m\u001b[1;33m[\u001b[0m\u001b[0mb\u001b[0m\u001b[1;33m]\u001b[0m\u001b[1;33m)\u001b[0m\u001b[1;33m**\u001b[0m\u001b[1;36m2\u001b[0m\u001b[1;33m\u001b[0m\u001b[0m\n\u001b[0m\u001b[0;32m     14\u001b[0m         \u001b[1;32mreturn\u001b[0m \u001b[0mmath\u001b[0m\u001b[1;33m.\u001b[0m\u001b[0msqrt\u001b[0m\u001b[1;33m(\u001b[0m\u001b[0mdistance\u001b[0m\u001b[1;33m)\u001b[0m\u001b[1;33m\u001b[0m\u001b[0m\n",
      "\u001b[1;31mTypeError\u001b[0m: 'float' object is not subscriptable"
     ]
    }
   ],
   "source": [
    "# prepare data\n",
    "trainingSet=[]\n",
    "testSet=[]\n",
    "split = 66 #percentage of maindata to be used in the training set\n",
    "    \n",
    "    \n",
    "define_sets('iris.data', split, trainingSet, testSet)\n",
    "print ('Train set: ' + str(len(trainingSet)))\n",
    "print ('Test set: ' + str(len(testSet)))\n",
    "\n",
    "print(trainingSet)\n",
    "print(testSet)\n",
    "\n",
    "k = 3\n",
    "\n",
    "k_neighbours = finding_neighbours(testSet[0],trainingSet,k)\n",
    "print(k_neighbours)\n",
    "\n",
    "\n"
   ]
  },
  {
   "cell_type": "code",
   "execution_count": null,
   "metadata": {},
   "outputs": [],
   "source": []
  },
  {
   "cell_type": "code",
   "execution_count": null,
   "metadata": {},
   "outputs": [],
   "source": []
  },
  {
   "cell_type": "code",
   "execution_count": null,
   "metadata": {},
   "outputs": [],
   "source": []
  }
 ],
 "metadata": {
  "kernelspec": {
   "display_name": "Python 3",
   "language": "python",
   "name": "python3"
  },
  "language_info": {
   "codemirror_mode": {
    "name": "ipython",
    "version": 3
   },
   "file_extension": ".py",
   "mimetype": "text/x-python",
   "name": "python",
   "nbconvert_exporter": "python",
   "pygments_lexer": "ipython3",
   "version": "3.6.4"
  }
 },
 "nbformat": 4,
 "nbformat_minor": 2
}

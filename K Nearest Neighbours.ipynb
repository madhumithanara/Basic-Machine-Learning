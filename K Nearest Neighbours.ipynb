{
 "cells": [
  {
   "cell_type": "code",
   "execution_count": 1,
   "metadata": {},
   "outputs": [],
   "source": [
    "import csv\n",
    "import random"
   ]
  },
  {
   "cell_type": "code",
   "execution_count": 84,
   "metadata": {},
   "outputs": [],
   "source": [
    "# load irist dataset and randomly split it into test set and training set\n",
    "\n",
    "def loadDataset(filename, split, trainingSet=[] , testSet=[]):\n",
    "    with open(filename, 'rt') as csvfile:\n",
    "        lines = csv.reader(csvfile)\n",
    "        dataset = list(lines)\n",
    "        for x in range(len(dataset)-1):\n",
    "            for y in range(4):\n",
    "                dataset[x][y] = float(dataset[x][y])\n",
    "                \n",
    "        dataSetcopy = dataset\n",
    "        random.shuffle(dataSetcopy)\n",
    "        length_train = int(split * (len(dataset)-1) / 100)\n",
    "\n",
    "\n",
    "        for a in range(0,len(dataSetcopy)-1):\n",
    "            if (a<length_train):\n",
    "                trainingSet.append(dataSetcopy[a])\n",
    "            else:\n",
    "                testSet.append(dataSetcopy[a])\n"
   ]
  },
  {
   "cell_type": "code",
   "execution_count": 85,
   "metadata": {},
   "outputs": [],
   "source": [
    "# euclidean distance calcualtion\n",
    "\n",
    "import math\n",
    "def euclideanDistance(instance1, instance2, length):\n",
    "\tdistance = 0\n",
    "\tfor x in range(length):\n",
    "\t\tdistance += pow((instance1[x] - instance2[x]), 2)\n",
    "\treturn math.sqrt(distance)"
   ]
  },
  {
   "cell_type": "code",
   "execution_count": 86,
   "metadata": {},
   "outputs": [],
   "source": [
    "############################################################\n",
    "# NEIGHBOURS - selecting subset with the smallest distance #\n",
    "############################################################\n",
    "\n",
    "\n",
    "\n",
    "\n",
    "import operator \n",
    "def getNeighbors(trainingSet, testInstance, k):\n",
    "\tdistances = []\n",
    "\tlength = len(testInstance)-1\n",
    "\tfor x in range(len(trainingSet)):\n",
    "\t\tdist = euclideanDistance(testInstance, trainingSet[x], length)\n",
    "\t\tdistances.append((trainingSet[x], dist))\n",
    "\tdistances.sort(key=operator.itemgetter(1))\n",
    "\tneighbors = []\n",
    "\tfor x in range(k):\n",
    "\t\tneighbors.append(distances[x][0])\n",
    "\treturn neighbors"
   ]
  },
  {
   "cell_type": "code",
   "execution_count": 87,
   "metadata": {},
   "outputs": [],
   "source": [
    "\n",
    "############################## \n",
    "# PREDICTED RESPONSE #\n",
    "######################\n",
    "\n",
    "import operator\n",
    "def getResponse(neighbors):\n",
    "\tclassVotes = {}\n",
    "\tfor x in range(len(neighbors)):\n",
    "\t\tresponse = neighbors[x][-1]\n",
    "\t\tif response in classVotes:\n",
    "\t\t\tclassVotes[response] += 1\n",
    "\t\t\tprint(classVotes,response,\"&&&\")\n",
    "\t\telse:\n",
    "\t\t\tclassVotes[response] = 1\n",
    "\tsortedVotes = sorted(classVotes.items(), key=operator.itemgetter(1), reverse=True)\n",
    "\tprint(\"//////\")\n",
    "\tprint(sortedVotes)\n",
    "\treturn sortedVotes[0][0]"
   ]
  },
  {
   "cell_type": "code",
   "execution_count": 88,
   "metadata": {},
   "outputs": [],
   "source": [
    "######################\n",
    "# MEASURING ACCURACY #\n",
    "######################\n",
    "\n",
    "def getAccuracy(testSet, predictions):\n",
    "\tcorrect = 0\n",
    "\tfor x in range(len(testSet)):\n",
    "\t\tif testSet[x][-1] in predictions[x]: \n",
    "\t\t\tcorrect = correct + 1\n",
    "\t\t\t\n",
    "\treturn (correct/float(len(testSet))*100)"
   ]
  },
  {
   "cell_type": "code",
   "execution_count": 89,
   "metadata": {},
   "outputs": [
    {
     "name": "stdout",
     "output_type": "stream",
     "text": [
      "Train set: 99\n",
      "Test set: 51\n",
      "{'Iris-versicolor': 2} Iris-versicolor &&&\n",
      "{'Iris-versicolor': 3} Iris-versicolor &&&\n",
      "//////\n",
      "[('Iris-versicolor', 3)]\n",
      "> predicted='Iris-versicolor', actual='Iris-versicolor'\n",
      "{'Iris-setosa': 2} Iris-setosa &&&\n",
      "{'Iris-setosa': 3} Iris-setosa &&&\n",
      "//////\n",
      "[('Iris-setosa', 3)]\n",
      "> predicted='Iris-setosa', actual='Iris-setosa'\n",
      "{'Iris-virginica': 2} Iris-virginica &&&\n",
      "{'Iris-virginica': 3} Iris-virginica &&&\n",
      "//////\n",
      "[('Iris-virginica', 3)]\n",
      "> predicted='Iris-virginica', actual='Iris-virginica'\n",
      "{'Iris-setosa': 2} Iris-setosa &&&\n",
      "{'Iris-setosa': 3} Iris-setosa &&&\n",
      "//////\n",
      "[('Iris-setosa', 3)]\n",
      "> predicted='Iris-setosa', actual='Iris-setosa'\n",
      "{'Iris-setosa': 2} Iris-setosa &&&\n",
      "{'Iris-setosa': 3} Iris-setosa &&&\n",
      "//////\n",
      "[('Iris-setosa', 3)]\n",
      "> predicted='Iris-setosa', actual='Iris-setosa'\n",
      "{'Iris-versicolor': 2} Iris-versicolor &&&\n",
      "{'Iris-versicolor': 3} Iris-versicolor &&&\n",
      "//////\n",
      "[('Iris-versicolor', 3)]\n",
      "> predicted='Iris-versicolor', actual='Iris-versicolor'\n",
      "{'Iris-setosa': 2} Iris-setosa &&&\n",
      "{'Iris-setosa': 3} Iris-setosa &&&\n",
      "//////\n",
      "[('Iris-setosa', 3)]\n",
      "> predicted='Iris-setosa', actual='Iris-setosa'\n",
      "{'Iris-setosa': 2} Iris-setosa &&&\n",
      "{'Iris-setosa': 3} Iris-setosa &&&\n",
      "//////\n",
      "[('Iris-setosa', 3)]\n",
      "> predicted='Iris-setosa', actual='Iris-setosa'\n",
      "{'Iris-virginica': 2} Iris-virginica &&&\n",
      "{'Iris-virginica': 3} Iris-virginica &&&\n",
      "//////\n",
      "[('Iris-virginica', 3)]\n",
      "> predicted='Iris-virginica', actual='Iris-virginica'\n",
      "{'Iris-setosa': 2} Iris-setosa &&&\n",
      "{'Iris-setosa': 3} Iris-setosa &&&\n",
      "//////\n",
      "[('Iris-setosa', 3)]\n",
      "> predicted='Iris-setosa', actual='Iris-setosa'\n",
      "{'Iris-versicolor': 2} Iris-versicolor &&&\n",
      "{'Iris-versicolor': 3} Iris-versicolor &&&\n",
      "//////\n",
      "[('Iris-versicolor', 3)]\n",
      "> predicted='Iris-versicolor', actual='Iris-versicolor'\n",
      "{'Iris-virginica': 2, 'Iris-versicolor': 1} Iris-virginica &&&\n",
      "//////\n",
      "[('Iris-virginica', 2), ('Iris-versicolor', 1)]\n"
     ]
    },
    {
     "ename": "IndexError",
     "evalue": "list index out of range",
     "output_type": "error",
     "traceback": [
      "\u001b[1;31m---------------------------------------------------------------------------\u001b[0m",
      "\u001b[1;31mIndexError\u001b[0m                                Traceback (most recent call last)",
      "\u001b[1;32m<ipython-input-89-3638539dbeb3>\u001b[0m in \u001b[0;36m<module>\u001b[1;34m()\u001b[0m\n\u001b[0;32m     16\u001b[0m         \u001b[0mresult\u001b[0m \u001b[1;33m=\u001b[0m \u001b[0mgetResponse\u001b[0m\u001b[1;33m(\u001b[0m\u001b[0mneighbors\u001b[0m\u001b[1;33m)\u001b[0m\u001b[1;33m\u001b[0m\u001b[0m\n\u001b[0;32m     17\u001b[0m         \u001b[0mpredictions\u001b[0m\u001b[1;33m.\u001b[0m\u001b[0mappend\u001b[0m\u001b[1;33m(\u001b[0m\u001b[0mresult\u001b[0m\u001b[1;33m)\u001b[0m\u001b[1;33m\u001b[0m\u001b[0m\n\u001b[1;32m---> 18\u001b[1;33m         \u001b[0mprint\u001b[0m\u001b[1;33m(\u001b[0m\u001b[1;34m'> predicted='\u001b[0m \u001b[1;33m+\u001b[0m \u001b[0mrepr\u001b[0m\u001b[1;33m(\u001b[0m\u001b[0mresult\u001b[0m\u001b[1;33m)\u001b[0m \u001b[1;33m+\u001b[0m \u001b[1;34m', actual='\u001b[0m \u001b[1;33m+\u001b[0m \u001b[0mrepr\u001b[0m\u001b[1;33m(\u001b[0m\u001b[0mtestSet\u001b[0m\u001b[1;33m[\u001b[0m\u001b[0mx\u001b[0m\u001b[1;33m]\u001b[0m\u001b[1;33m[\u001b[0m\u001b[1;33m-\u001b[0m\u001b[1;36m1\u001b[0m\u001b[1;33m]\u001b[0m\u001b[1;33m)\u001b[0m\u001b[1;33m)\u001b[0m\u001b[1;33m\u001b[0m\u001b[0m\n\u001b[0m\u001b[0;32m     19\u001b[0m \u001b[0maccuracy\u001b[0m \u001b[1;33m=\u001b[0m \u001b[0mgetAccuracy\u001b[0m\u001b[1;33m(\u001b[0m\u001b[0mtestSet\u001b[0m\u001b[1;33m,\u001b[0m \u001b[0mpredictions\u001b[0m\u001b[1;33m)\u001b[0m\u001b[1;33m\u001b[0m\u001b[0m\n\u001b[0;32m     20\u001b[0m \u001b[0mprint\u001b[0m\u001b[1;33m(\u001b[0m\u001b[1;34m'Accuracy: '\u001b[0m \u001b[1;33m+\u001b[0m \u001b[0mrepr\u001b[0m\u001b[1;33m(\u001b[0m\u001b[0maccuracy\u001b[0m\u001b[1;33m)\u001b[0m \u001b[1;33m+\u001b[0m \u001b[1;34m'%'\u001b[0m\u001b[1;33m)\u001b[0m\u001b[1;33m\u001b[0m\u001b[0m\n",
      "\u001b[1;31mIndexError\u001b[0m: list index out of range"
     ]
    }
   ],
   "source": [
    "# prepare data\n",
    "trainingSet=[]\n",
    "testSet=[]\n",
    "split = 66 # The ratio between training set and test set\n",
    "    \n",
    "    \n",
    "loadDataset('iris.data', split, trainingSet, testSet)\n",
    "print ('Train set: ' + str(len(trainingSet)))\n",
    "print ('Test set: ' + str(len(testSet)))\n",
    "# generate predictions\n",
    "predictions=[]\n",
    "#Feel free to change this value and analyze the accuracy\n",
    "k = 3\n",
    "for x in range(len(testSet)):\n",
    "\tneighbors = getNeighbors(trainingSet, testSet[x], k)\n",
    "\tresult = getResponse(neighbors)\n",
    "\tpredictions.append(result)\n",
    "\tprint('> predicted=' + repr(result) + ', actual=' + repr(testSet[x][-1]))\n",
    "accuracy = getAccuracy(testSet, predictions)\n",
    "print('Accuracy: ' + repr(accuracy) + '%')"
   ]
  },
  {
   "cell_type": "code",
   "execution_count": null,
   "metadata": {},
   "outputs": [],
   "source": []
  },
  {
   "cell_type": "code",
   "execution_count": null,
   "metadata": {},
   "outputs": [],
   "source": []
  },
  {
   "cell_type": "code",
   "execution_count": null,
   "metadata": {},
   "outputs": [],
   "source": []
  }
 ],
 "metadata": {
  "kernelspec": {
   "display_name": "Python 3",
   "language": "python",
   "name": "python3"
  },
  "language_info": {
   "codemirror_mode": {
    "name": "ipython",
    "version": 3
   },
   "file_extension": ".py",
   "mimetype": "text/x-python",
   "name": "python",
   "nbconvert_exporter": "python",
   "pygments_lexer": "ipython3",
   "version": "3.6.4"
  }
 },
 "nbformat": 4,
 "nbformat_minor": 2
}
